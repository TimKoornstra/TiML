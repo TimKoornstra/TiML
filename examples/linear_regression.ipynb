{
 "cells": [
  {
   "cell_type": "markdown",
   "id": "06b56b1f-ee74-433f-9fd6-376aaadbd216",
   "metadata": {},
   "source": [
    "# Linear Regression Using Least Squares Method\n",
    "\n",
    "Linear regression is not a method that is unique to the field of Artificial Intelligence. It is a well-known statistical approach for modeling the relationship between a scalar response and one or multiple explanatory variables. We can, for example, ask ourselves the question “How much will the value of my house increase if I were to repaint it?”. In this case, we want to know the price difference (the scalar response) when we repaint the house (an explanatory variable).\n",
    "\n",
    "In this notebook, we'll explore a simple implementation of linear regression using the least squares method."
   ]
  },
  {
   "cell_type": "markdown",
   "id": "2d5e0474-9666-4a63-80a8-281a13bc740f",
   "metadata": {},
   "source": [
    "## Introduction to the Class"
   ]
  },
  {
   "cell_type": "markdown",
   "id": "83664ccb-6521-4018-aff6-c10c1780e982",
   "metadata": {},
   "source": [
    "Linear regression is a foundational concept that transcends the domain of Artificial Intelligence. Originating from statistics, it offers a methodical approach to model the relationship between a scalar response and one or more explanatory variables.\n",
    "\n",
    "Consider the hypothetical scenario: \"How much will the value of my house increase if I were to repaint it?\". Here, we aim to discern the price difference (the scalar response) contingent on the act of repainting the house (an explanatory variable).\n",
    "\n",
    "For simple linear regression (i.e., with one response and one variable), the relationship is encapsulated by the equation:\n",
    "\n",
    "$y=mx+b$\n",
    "\n",
    "A formula many might recall from high school mathematics. In our house painting example:\n",
    "\n",
    "- $y$: Final house price.\n",
    "\n",
    "- $m$: Incremental value attributable to each unit of paint.\n",
    "\n",
    "- $x$: Amount of paint used.\n",
    "\n",
    "- $b$: Initial house price before painting.\n",
    "\n",
    "The model postulates that without painting ($x=0$), the house retains its original value. As we paint more, its value should ideally increase, up to a certain saturation point.\n",
    "\n",
    "When we transition to multiple linear regression, where the number of variables exceeds one, our formula must accommodate multiple variables and their corresponding coefficients:\n",
    "\n",
    "$y = \\sum^i(m_ix_i)+b$\n",
    "\n",
    "In matrix notation, this relationship is elegantly captured as:\n",
    "\n",
    "$y = w^Tx$\n",
    "\n",
    "The bias term $b$ seems to vanish, but in practice, it's typically embedded within the weight and variable vectors.\n",
    "\n",
    "Expanding the horizon further, multivariate linear regression predicts multiple correlated responses instead of a singular scalar. Despite its complexity, its matrix representation remains concise:\n",
    "\n",
    "$y = w^Tx$\n",
    "\n",
    "This equation mirrors the one from multiple linear regression, but crucially, outputs a vector $y$ instead of a scalar."
   ]
  },
  {
   "cell_type": "markdown",
   "id": "bede607a-d6d7-4b07-9786-33accdffdaa3",
   "metadata": {},
   "source": [
    "### `LinearRegression` class overview"
   ]
  },
  {
   "cell_type": "markdown",
   "id": "90dd73f2-a0ec-4690-9cc9-c5fcf7186678",
   "metadata": {},
   "source": [
    "Attributes:\n",
    "\n",
    "- `weights`: Represents the coefficients for each feature in the input data. Corresponds to the mm or ww in our equations.\n",
    "- `bias`: The y-intercept in the linear equation, though, as noted, it's often incorporated within the weights for matrix operations.\n",
    "\n",
    "Methods:\n",
    "\n",
    "- `fit`: Trains the model by determining the optimal weights and bias that minimize the difference between the predicted and observed values.\n",
    "- `predict`: Once trained, this method can estimate the output based on new input data.\n",
    "- `score`: Evaluates the efficacy of the model by comparing its predictions against actual values using a predefined loss function."
   ]
  },
  {
   "cell_type": "markdown",
   "id": "703a9afe-9b9a-4e69-a5df-912d0c3bb89d",
   "metadata": {},
   "source": [
    "## A deeper dive"
   ]
  },
  {
   "cell_type": "markdown",
   "id": "3982b5a3-dc4c-499d-8326-674573feebc3",
   "metadata": {},
   "source": [
    "Given that the whole library was written with `numpy` as the only required dependency, let's import it!"
   ]
  },
  {
   "cell_type": "code",
   "execution_count": 1,
   "id": "4f20e580-6950-4a00-a3d3-04027b0050d8",
   "metadata": {},
   "outputs": [],
   "source": [
    "import numpy as np"
   ]
  },
  {
   "cell_type": "markdown",
   "id": "2a712d75-b0bf-4c3b-bebc-0df10782cda4",
   "metadata": {},
   "source": [
    "### Class attributes\n",
    "For our demonstration, we'll simulate the attributes as:"
   ]
  },
  {
   "cell_type": "code",
   "execution_count": 2,
   "id": "f9a4976f-f4bb-4404-b2a6-9007956a6a8b",
   "metadata": {},
   "outputs": [],
   "source": [
    "weights = None\n",
    "bias = None"
   ]
  },
  {
   "cell_type": "markdown",
   "id": "32680a65-c3c5-4470-9b94-d7f99fa35936",
   "metadata": {},
   "source": [
    "These placeholders represent the coefficients of the model and the y-intercept, respectively."
   ]
  },
  {
   "cell_type": "markdown",
   "id": "6310e3af-4019-40ed-985b-333da37cc44f",
   "metadata": {},
   "source": [
    "### The `fit` method"
   ]
  },
  {
   "cell_type": "markdown",
   "id": "2892878e-7895-4751-a5f9-6a5bb2284d05",
   "metadata": {},
   "source": [
    "The primary purpose of the `fit` method is to train the linear regression model. It computes the optimal values for the weights and bias attributes by leveraging the least squares method."
   ]
  },
  {
   "cell_type": "code",
   "execution_count": 3,
   "id": "d33b11b1-9505-4c66-93b1-7a88c1e7917b",
   "metadata": {},
   "outputs": [],
   "source": [
    "def fit(X, y):\n",
    "    \"\"\"\n",
    "    Parameters:\n",
    "    -----------\n",
    "    X : numpy.ndarray\n",
    "        The input data of shape (m, n).\n",
    "    y : numpy.ndarray\n",
    "        The labels of shape (m,).\n",
    "\n",
    "    Returns:\n",
    "    --------\n",
    "    self : object\n",
    "        Fitted estimator.\n",
    "    \"\"\"\n",
    "\n",
    "    # First, add a bias term\n",
    "    X = np.c_[X, np.ones(X.shape[0])]\n",
    "\n",
    "    # Calculate the weights and bias using Least Squares\n",
    "    # \\beta = (X^T X)^{-1} X^T y\n",
    "    beta = np.dot(np.dot(np.linalg.inv(np.dot(X.T, X)), X.T), y)\n",
    "\n",
    "    # Store the weights and bias\n",
    "    weights = beta[:-1]\n",
    "    bias = beta[-1]\n",
    "\n",
    "    return self"
   ]
  },
  {
   "cell_type": "markdown",
   "id": "c7379c88-7ff6-41b7-811d-e2dadc29ccf2",
   "metadata": {},
   "source": [
    "Since we cannot always come up with a linear function that can fit all our data exactly, we want to approximate a linear function that describes the relationship between the x and the y axis as accurately as possible.\n",
    "\n",
    "To do so, we use the least squares method. Without boring you with all of the details, it is most important to know the following: it is an approximation method to minimize the sum of squared residuals. A residual is a difference between the observed value and the estimated value of the quantity of interest (e.g. sample mean). Using a lot of math, it can be rewritten as the following formula:\n",
    "\n",
    "$\\hat{\\beta} = (X^T X)^{-1} X^T Y$\n",
    "\n",
    "Note that $\\hat{\\beta}$ is the estimated coefficient matrix."
   ]
  },
  {
   "cell_type": "markdown",
   "id": "ffc94ed8-3835-4e0d-a1e8-7a8191a70b1d",
   "metadata": {},
   "source": [
    "### The `predict` function"
   ]
  },
  {
   "cell_type": "markdown",
   "id": "f95e68a8-e44f-41f6-a867-28df091639f5",
   "metadata": {},
   "source": [
    "With this function, we can input an array containing our data, and output the predictions."
   ]
  },
  {
   "cell_type": "code",
   "execution_count": 4,
   "id": "b4874241-1c2a-446f-866d-a5a47c56ae06",
   "metadata": {},
   "outputs": [],
   "source": [
    "def predict(X):\n",
    "    \"\"\"\n",
    "    Function to predict the output of the model.\n",
    "\n",
    "    Parameters:\n",
    "    -----------\n",
    "    X : numpy.ndarray\n",
    "        The input data of shape (m, n).\n",
    "\n",
    "    Returns:\n",
    "    --------\n",
    "    y_pred : numpy.ndarray\n",
    "        The predicted labels of shape (m,).\n",
    "    \"\"\"\n",
    "\n",
    "    return X.dot(weights) + bias"
   ]
  },
  {
   "cell_type": "markdown",
   "id": "46b36eb6-d96a-4f87-8967-4a7e42ac634a",
   "metadata": {},
   "source": [
    "Recall that this function is the same as\n",
    "\n",
    "$y = \\sum^i(m_ix_i)+b$\n",
    "\n",
    "or \n",
    "\n",
    "$y = w^Tx$"
   ]
  },
  {
   "cell_type": "markdown",
   "id": "416af7f9-9cc5-4d22-b06d-0ec577ab4ef0",
   "metadata": {},
   "source": [
    "### The `score` function"
   ]
  },
  {
   "cell_type": "markdown",
   "id": "bdcb5a6e-0812-4471-b69e-7f8e82232dd8",
   "metadata": {},
   "source": [
    "This function is more of a utility function to show how good the model has learned to fit to our data. In this case, we use the [$R^2$ measure](https://www.investopedia.com/terms/r/r-squared.asp)."
   ]
  },
  {
   "cell_type": "code",
   "execution_count": 5,
   "id": "811f75df-167b-461b-9c8f-72a93505eeca",
   "metadata": {},
   "outputs": [],
   "source": [
    "from TiML.losses.numerical import r_squared"
   ]
  },
  {
   "cell_type": "code",
   "execution_count": 6,
   "id": "213e9010-1aa2-4b51-9fba-761fb083b405",
   "metadata": {},
   "outputs": [],
   "source": [
    "def score(X, y, loss=r_squared):\n",
    "    \"\"\"\n",
    "    Function to calculate the score of the model.\n",
    "\n",
    "    Parameters:\n",
    "    -----------\n",
    "    X : numpy.ndarray\n",
    "        The input data of shape (m, n).\n",
    "    y : numpy.ndarray\n",
    "        The labels of shape (m,).\n",
    "    loss : function\n",
    "        The loss function to use.\n",
    "\n",
    "    Returns:\n",
    "    --------\n",
    "    score : float\n",
    "        The score of the model.\n",
    "    \"\"\"\n",
    "\n",
    "    return loss(y, predict(X))"
   ]
  },
  {
   "cell_type": "markdown",
   "id": "bcaf084f-68ba-4f6d-a73f-a4abff2bf390",
   "metadata": {},
   "source": [
    "## Seeing the class in action"
   ]
  },
  {
   "cell_type": "markdown",
   "id": "2dcd9c16-f925-46a6-a80c-36ae5c7677ac",
   "metadata": {},
   "source": [
    "To use our regression class on a sample dataset, we'll need to import a few libraries."
   ]
  },
  {
   "cell_type": "code",
   "execution_count": 7,
   "id": "56152bb1-81e0-417e-a214-6e1a51d28ddb",
   "metadata": {},
   "outputs": [],
   "source": [
    "from sklearn.datasets import make_regression         # Lets us make a toy example\n",
    "from sklearn.model_selection import train_test_split # Allows us to split our data easily\n",
    "from sklearn.metrics import mean_squared_error       # A different error metric\n",
    "\n",
    "import matplotlib.pyplot as plt                      # Visualize the data"
   ]
  },
  {
   "cell_type": "markdown",
   "id": "f628905f-b941-469f-bf93-c051037cfa44",
   "metadata": {},
   "source": [
    "For this demonstration, let's create a random regression problem with one input feature and one output."
   ]
  },
  {
   "cell_type": "code",
   "execution_count": 8,
   "id": "a9c3aae6-176e-4cfc-b464-93dcdac8a328",
   "metadata": {},
   "outputs": [],
   "source": [
    "X, y = make_regression(n_samples=1000, n_features=1, n_targets=1, noise=15)"
   ]
  },
  {
   "cell_type": "markdown",
   "id": "08a9fd38-067e-4d9c-b2ce-b8e23fb342d2",
   "metadata": {},
   "source": [
    "Let's quickly inspect the in- and output data."
   ]
  },
  {
   "cell_type": "code",
   "execution_count": 9,
   "id": "c1cee8ff-4d56-4571-9a6c-e352f97c7dd4",
   "metadata": {},
   "outputs": [
    {
     "name": "stdout",
     "output_type": "stream",
     "text": [
      "[0.01805403]\n",
      "-34.79122020281912\n"
     ]
    }
   ],
   "source": [
    "print(X[0])\n",
    "print(y[0])"
   ]
  },
  {
   "cell_type": "code",
   "execution_count": 10,
   "id": "04861f9d-bccb-47e3-8b2d-f29fbc613fa7",
   "metadata": {},
   "outputs": [
    {
     "data": {
      "image/png": "[encoded data removed]",
      "text/plain": [
       "<Figure size 500x300 with 1 Axes>"
      ]
     },
     "metadata": {},
     "output_type": "display_data"
    }
   ],
   "source": [
    "plt.figure(figsize=(5, 3))\n",
    "plt.scatter(X, y, color='blue', label='Actual Data')\n",
    "plt.title('Toy Data')\n",
    "plt.xlabel('X')\n",
    "plt.ylabel('y')\n",
    "plt.legend()\n",
    "plt.grid(True)\n",
    "plt.show()"
   ]
  },
  {
   "cell_type": "markdown",
   "id": "22f221fb-242f-42d1-9c97-de7a0fbf0ce3",
   "metadata": {},
   "source": [
    "We'll split the dataset into training and testing subsets to evaluate the model's performance on unseen data."
   ]
  },
  {
   "cell_type": "code",
   "execution_count": 11,
   "id": "57bef140-c43a-45bc-970c-4b7d3f73934d",
   "metadata": {},
   "outputs": [],
   "source": [
    "X_train, X_test, y_train, y_test = train_test_split(X, y, test_size=0.2, random_state=42)"
   ]
  },
  {
   "cell_type": "markdown",
   "id": "028e3057-1c2b-4fc0-be77-98cdafc5bb41",
   "metadata": {},
   "source": [
    "Now let's import the `LinearRegression` class from the `TiML` library!"
   ]
  },
  {
   "cell_type": "code",
   "execution_count": 12,
   "id": "6f8bafef-b2f4-4870-aa7f-8af734d3f846",
   "metadata": {},
   "outputs": [],
   "source": [
    "from TiML.models import LinearRegression\n",
    "\n",
    "model = LinearRegression()"
   ]
  },
  {
   "cell_type": "markdown",
   "id": "9dcd41f2-dc93-4608-b918-73bd3eea01f6",
   "metadata": {},
   "source": [
    "And fit the model to our dataset!"
   ]
  },
  {
   "cell_type": "code",
   "execution_count": 13,
   "id": "53593661-1342-415c-a790-92ca2bdd7207",
   "metadata": {},
   "outputs": [
    {
     "data": {
      "text/plain": [
       "<TiML.models.linear_regression.LinearRegression at 0x7fc878fc9c10>"
      ]
     },
     "execution_count": 13,
     "metadata": {},
     "output_type": "execute_result"
    }
   ],
   "source": [
    "model.fit(X_train, y_train)"
   ]
  },
  {
   "cell_type": "markdown",
   "id": "d7afca0f-f6bc-4592-8574-c0ac9b529382",
   "metadata": {},
   "source": [
    "Lastly, let's assess the performance of our model using the R-squared metric and Mean Squared Error (MSE)."
   ]
  },
  {
   "cell_type": "code",
   "execution_count": 14,
   "id": "fd888fb0-80a9-43e7-80e4-3583a1d1c8e3",
   "metadata": {},
   "outputs": [
    {
     "name": "stdout",
     "output_type": "stream",
     "text": [
      "R-squared Score: 0.96\n",
      "Mean Squared Error: 193.72\n"
     ]
    }
   ],
   "source": [
    "r2 = model.score(X_test, y_test)\n",
    "mse = model.score(X_test, y_test, mean_squared_error)\n",
    "\n",
    "print(f\"R-squared Score: {r2:.2f}\")\n",
    "print(f\"Mean Squared Error: {mse:.2f}\")"
   ]
  },
  {
   "cell_type": "markdown",
   "id": "bad255a2-81f6-477a-86d7-f9da7168006f",
   "metadata": {},
   "source": [
    "An $R^2$ score of 0.96 means that the model can explain 96% of the variability of the data. That is really good!\n",
    "\n",
    "Let's see what our fit looks like!"
   ]
  },
  {
   "cell_type": "code",
   "execution_count": 15,
   "id": "8e2966bc-525e-47fb-a165-b42b04c9f046",
   "metadata": {},
   "outputs": [
    {
     "data": {
      "image/png": "[encoded data removed]",
      "text/plain": [
       "<Figure size 1000x600 with 1 Axes>"
      ]
     },
     "metadata": {},
     "output_type": "display_data"
    }
   ],
   "source": [
    "plt.figure(figsize=(10, 6))\n",
    "plt.scatter(X, y, color='blue', label='Actual Data')\n",
    "plt.plot(X, model.predict(X), color='red', label='Regression Line')\n",
    "plt.title('Linear Regression Fit')\n",
    "plt.xlabel('X')\n",
    "plt.ylabel('y')\n",
    "plt.legend()\n",
    "plt.grid(True)\n",
    "plt.show()"
   ]
  }
 ],
 "metadata": {
  "kernelspec": {
   "display_name": "Python 3 (ipykernel)",
   "language": "python",
   "name": "python3"
  },
  "language_info": {
   "codemirror_mode": {
    "name": "ipython",
    "version": 3
   },
   "file_extension": ".py",
   "mimetype": "text/x-python",
   "name": "python",
   "nbconvert_exporter": "python",
   "pygments_lexer": "ipython3",
   "version": "3.11.4"
  }
 },
 "nbformat": 4,
 "nbformat_minor": 5
}
